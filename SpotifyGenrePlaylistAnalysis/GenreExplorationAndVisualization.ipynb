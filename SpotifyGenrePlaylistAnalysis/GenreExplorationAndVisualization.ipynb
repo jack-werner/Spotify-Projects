{
 "metadata": {
  "language_info": {
   "codemirror_mode": {
    "name": "ipython",
    "version": 3
   },
   "file_extension": ".py",
   "mimetype": "text/x-python",
   "name": "python",
   "nbconvert_exporter": "python",
   "pygments_lexer": "ipython3",
   "version": "3.6.4"
  },
  "orig_nbformat": 2,
  "kernelspec": {
   "name": "python3",
   "display_name": "Python 3.6.4 64-bit (conda)",
   "metadata": {
    "interpreter": {
     "hash": "86e08c83660ef051f365b6564e4f72c9ac68d4064a81401cbda8fb8c32d752a9"
    }
   }
  }
 },
 "nbformat": 4,
 "nbformat_minor": 2,
 "cells": [
  {
   "cell_type": "code",
   "execution_count": 1,
   "metadata": {},
   "outputs": [],
   "source": [
    "import pandas as pd\n",
    "import numpy as np\n",
    "from getSpotifyData import GetSpotifyData"
   ]
  },
  {
   "source": [
    "This notebook is going to be used to pull the top playlists for several genres, look at the top tracks and see how well these songs represent that genre, and then explore some of the distributions of the track features for these genres. We are going to be looking at 'deep house', 'yacht rock', and 'shoegaze' since they are all quite different genres from one another and vary in terms of specificity. To be clear, Yacht Rock is a very niche genre only made up of a few prominent rock bands in a brief time period. Shoegaze has a broader meaning and can has lots of sister-genres that sound pretty similar, like dream pop, but the general sound is very easy to identify. Deep House is a very unspecific genre and the name gets applied to many different artists from many different decades. Some say Larry Heard is Deep House, some say Tchami is Deep House, some say that any house track with an FM Bass that you might hear in Ibiza is Deep House. Let's see how this code does at grasping at the essence of each of these genres."
   ],
   "cell_type": "markdown",
   "metadata": {}
  },
  {
   "cell_type": "code",
   "execution_count": 2,
   "metadata": {},
   "outputs": [
    {
     "output_type": "stream",
     "name": "stdout",
     "text": [
      "Authentication Successful\n"
     ]
    }
   ],
   "source": [
    "s = GetSpotifyData('credentials.json')\n",
    "s.authenticate()"
   ]
  },
  {
   "source": [
    "Let's use the class I've written to get the top 100 playlists for each search of these genres, each track from those playlists, and the track features for each track."
   ],
   "cell_type": "markdown",
   "metadata": {}
  },
  {
   "cell_type": "code",
   "execution_count": 5,
   "metadata": {},
   "outputs": [
    {
     "output_type": "stream",
     "name": "stdout",
     "text": [
      "getting playlists\n",
      "getting tracks from playlists\n"
     ]
    },
    {
     "output_type": "error",
     "ename": "KeyboardInterrupt",
     "evalue": "",
     "traceback": [
      "\u001b[0;31m---------------------------------------------------------------------------\u001b[0m",
      "\u001b[0;31mKeyboardInterrupt\u001b[0m                         Traceback (most recent call last)",
      "\u001b[0;32m<ipython-input-5-563f324ddcab>\u001b[0m in \u001b[0;36m<module>\u001b[0;34m()\u001b[0m\n\u001b[1;32m      1\u001b[0m \u001b[0mbreakpoint\u001b[0m\u001b[0;34m(\u001b[0m\u001b[0;34m)\u001b[0m\u001b[0;34m\u001b[0m\u001b[0m\n\u001b[1;32m      2\u001b[0m \u001b[0;34m\u001b[0m\u001b[0m\n\u001b[0;32m----> 3\u001b[0;31m \u001b[0mdh\u001b[0m \u001b[0;34m=\u001b[0m \u001b[0ms\u001b[0m\u001b[0;34m.\u001b[0m\u001b[0mget_tracks_for_search_term\u001b[0m\u001b[0;34m(\u001b[0m\u001b[0;34m'deep house'\u001b[0m\u001b[0;34m,\u001b[0m \u001b[0;36m100\u001b[0m\u001b[0;34m)\u001b[0m\u001b[0;34m\u001b[0m\u001b[0m\n\u001b[0m\u001b[1;32m      4\u001b[0m \u001b[0msg\u001b[0m \u001b[0;34m=\u001b[0m \u001b[0ms\u001b[0m\u001b[0;34m.\u001b[0m\u001b[0mget_tracks_for_search_term\u001b[0m\u001b[0;34m(\u001b[0m\u001b[0;34m'shoegaze'\u001b[0m\u001b[0;34m,\u001b[0m \u001b[0;36m100\u001b[0m\u001b[0;34m)\u001b[0m\u001b[0;34m\u001b[0m\u001b[0m\n\u001b[1;32m      5\u001b[0m \u001b[0myr\u001b[0m \u001b[0;34m=\u001b[0m \u001b[0ms\u001b[0m\u001b[0;34m.\u001b[0m\u001b[0mget_tracks_for_search_term\u001b[0m\u001b[0;34m(\u001b[0m\u001b[0;34m'yacht rock'\u001b[0m\u001b[0;34m,\u001b[0m\u001b[0;36m100\u001b[0m\u001b[0;34m)\u001b[0m\u001b[0;34m\u001b[0m\u001b[0m\n",
      "\u001b[0;32m~/Documents/GitHub/SpotifyGenrePlaylistAnalysis/getSpotifyData.py\u001b[0m in \u001b[0;36mget_tracks_for_search_term\u001b[0;34m(self, q, N)\u001b[0m\n\u001b[1;32m    317\u001b[0m         \u001b[0mplaylists\u001b[0m \u001b[0;34m=\u001b[0m \u001b[0mself\u001b[0m\u001b[0;34m.\u001b[0m\u001b[0mget_N_playlists\u001b[0m\u001b[0;34m(\u001b[0m\u001b[0mq\u001b[0m\u001b[0;34m,\u001b[0m \u001b[0mN\u001b[0m\u001b[0;34m)\u001b[0m\u001b[0;34m\u001b[0m\u001b[0m\n\u001b[1;32m    318\u001b[0m         \u001b[0mprint\u001b[0m\u001b[0;34m(\u001b[0m\u001b[0;34m'getting tracks from playlists'\u001b[0m\u001b[0;34m)\u001b[0m\u001b[0;34m\u001b[0m\u001b[0m\n\u001b[0;32m--> 319\u001b[0;31m         \u001b[0mtracks\u001b[0m \u001b[0;34m=\u001b[0m \u001b[0mself\u001b[0m\u001b[0;34m.\u001b[0m\u001b[0mget_all_tracks_from_all_playlists\u001b[0m\u001b[0;34m(\u001b[0m\u001b[0mplaylists\u001b[0m\u001b[0;34m)\u001b[0m\u001b[0;34m\u001b[0m\u001b[0m\n\u001b[0m\u001b[1;32m    320\u001b[0m         tracks_and_playlists = tracks.merge(\n\u001b[1;32m    321\u001b[0m             \u001b[0mplaylists\u001b[0m\u001b[0;34m,\u001b[0m\u001b[0;34m\u001b[0m\u001b[0m\n",
      "\u001b[0;32m~/Documents/GitHub/SpotifyGenrePlaylistAnalysis/getSpotifyData.py\u001b[0m in \u001b[0;36mget_all_tracks_from_all_playlists\u001b[0;34m(self, playlist_df)\u001b[0m\n\u001b[1;32m    153\u001b[0m         \u001b[0;32mfor\u001b[0m \u001b[0mplaylist_id\u001b[0m \u001b[0;32min\u001b[0m \u001b[0mplaylist_df\u001b[0m\u001b[0;34m[\u001b[0m\u001b[0;34m'id'\u001b[0m\u001b[0;34m]\u001b[0m\u001b[0;34m:\u001b[0m\u001b[0;34m\u001b[0m\u001b[0m\n\u001b[1;32m    154\u001b[0m             \u001b[0;32mtry\u001b[0m\u001b[0;34m:\u001b[0m\u001b[0;34m\u001b[0m\u001b[0m\n\u001b[0;32m--> 155\u001b[0;31m                 \u001b[0mres\u001b[0m \u001b[0;34m=\u001b[0m \u001b[0mself\u001b[0m\u001b[0;34m.\u001b[0m\u001b[0mget_all_playlists_tracks\u001b[0m\u001b[0;34m(\u001b[0m\u001b[0mplaylist_id\u001b[0m\u001b[0;34m)\u001b[0m\u001b[0;34m\u001b[0m\u001b[0m\n\u001b[0m\u001b[1;32m    156\u001b[0m                 tracks_df = pd.concat(\n\u001b[1;32m    157\u001b[0m                     [tracks_df, res], ignore_index=True, axis=0)\n",
      "\u001b[0;32m~/Documents/GitHub/SpotifyGenrePlaylistAnalysis/getSpotifyData.py\u001b[0m in \u001b[0;36mget_all_playlists_tracks\u001b[0;34m(self, playlist_id)\u001b[0m\n\u001b[1;32m    137\u001b[0m \u001b[0;34m\u001b[0m\u001b[0m\n\u001b[1;32m    138\u001b[0m         \u001b[0;32mif\u001b[0m \u001b[0mlen\u001b[0m\u001b[0;34m(\u001b[0m\u001b[0mtracks_list\u001b[0m\u001b[0;34m)\u001b[0m \u001b[0;34m>\u001b[0m \u001b[0;36m0\u001b[0m\u001b[0;34m:\u001b[0m\u001b[0;34m\u001b[0m\u001b[0m\n\u001b[0;32m--> 139\u001b[0;31m             \u001b[0mtracks_df\u001b[0m \u001b[0;34m=\u001b[0m \u001b[0mpd\u001b[0m\u001b[0;34m.\u001b[0m\u001b[0mDataFrame\u001b[0m\u001b[0;34m(\u001b[0m\u001b[0mtracks_list\u001b[0m\u001b[0;34m)\u001b[0m\u001b[0;34m\u001b[0m\u001b[0m\n\u001b[0m\u001b[1;32m    140\u001b[0m             \u001b[0;31m# print(tracks_df.shape)\u001b[0m\u001b[0;34m\u001b[0m\u001b[0;34m\u001b[0m\u001b[0m\n\u001b[1;32m    141\u001b[0m             \u001b[0;31m# print(tracks_df.columns)\u001b[0m\u001b[0;34m\u001b[0m\u001b[0;34m\u001b[0m\u001b[0m\n",
      "\u001b[0;32m~/anaconda3/lib/python3.6/site-packages/pandas/core/frame.py\u001b[0m in \u001b[0;36m__init__\u001b[0;34m(self, data, index, columns, dtype, copy)\u001b[0m\n\u001b[1;32m    519\u001b[0m                             \u001b[0mindex\u001b[0m \u001b[0;34m=\u001b[0m \u001b[0mibase\u001b[0m\u001b[0;34m.\u001b[0m\u001b[0mdefault_index\u001b[0m\u001b[0;34m(\u001b[0m\u001b[0mlen\u001b[0m\u001b[0;34m(\u001b[0m\u001b[0mdata\u001b[0m\u001b[0;34m)\u001b[0m\u001b[0;34m)\u001b[0m\u001b[0;34m\u001b[0m\u001b[0m\n\u001b[1;32m    520\u001b[0m \u001b[0;34m\u001b[0m\u001b[0m\n\u001b[0;32m--> 521\u001b[0;31m                     \u001b[0mmgr\u001b[0m \u001b[0;34m=\u001b[0m \u001b[0marrays_to_mgr\u001b[0m\u001b[0;34m(\u001b[0m\u001b[0marrays\u001b[0m\u001b[0;34m,\u001b[0m \u001b[0mcolumns\u001b[0m\u001b[0;34m,\u001b[0m \u001b[0mindex\u001b[0m\u001b[0;34m,\u001b[0m \u001b[0mcolumns\u001b[0m\u001b[0;34m,\u001b[0m \u001b[0mdtype\u001b[0m\u001b[0;34m=\u001b[0m\u001b[0mdtype\u001b[0m\u001b[0;34m)\u001b[0m\u001b[0;34m\u001b[0m\u001b[0m\n\u001b[0m\u001b[1;32m    522\u001b[0m                 \u001b[0;32melse\u001b[0m\u001b[0;34m:\u001b[0m\u001b[0;34m\u001b[0m\u001b[0m\n\u001b[1;32m    523\u001b[0m                     \u001b[0mmgr\u001b[0m \u001b[0;34m=\u001b[0m \u001b[0minit_ndarray\u001b[0m\u001b[0;34m(\u001b[0m\u001b[0mdata\u001b[0m\u001b[0;34m,\u001b[0m \u001b[0mindex\u001b[0m\u001b[0;34m,\u001b[0m \u001b[0mcolumns\u001b[0m\u001b[0;34m,\u001b[0m \u001b[0mdtype\u001b[0m\u001b[0;34m=\u001b[0m\u001b[0mdtype\u001b[0m\u001b[0;34m,\u001b[0m \u001b[0mcopy\u001b[0m\u001b[0;34m=\u001b[0m\u001b[0mcopy\u001b[0m\u001b[0;34m)\u001b[0m\u001b[0;34m\u001b[0m\u001b[0m\n",
      "\u001b[0;32m~/anaconda3/lib/python3.6/site-packages/pandas/core/internals/construction.py\u001b[0m in \u001b[0;36marrays_to_mgr\u001b[0;34m(arrays, arr_names, index, columns, dtype, verify_integrity)\u001b[0m\n\u001b[1;32m     81\u001b[0m \u001b[0;34m\u001b[0m\u001b[0m\n\u001b[1;32m     82\u001b[0m         \u001b[0;31m# don't force copy because getting jammed in an ndarray anyway\u001b[0m\u001b[0;34m\u001b[0m\u001b[0;34m\u001b[0m\u001b[0m\n\u001b[0;32m---> 83\u001b[0;31m         \u001b[0marrays\u001b[0m \u001b[0;34m=\u001b[0m \u001b[0m_homogenize\u001b[0m\u001b[0;34m(\u001b[0m\u001b[0marrays\u001b[0m\u001b[0;34m,\u001b[0m \u001b[0mindex\u001b[0m\u001b[0;34m,\u001b[0m \u001b[0mdtype\u001b[0m\u001b[0;34m)\u001b[0m\u001b[0;34m\u001b[0m\u001b[0m\n\u001b[0m\u001b[1;32m     84\u001b[0m \u001b[0;34m\u001b[0m\u001b[0m\n\u001b[1;32m     85\u001b[0m         \u001b[0mcolumns\u001b[0m \u001b[0;34m=\u001b[0m \u001b[0mensure_index\u001b[0m\u001b[0;34m(\u001b[0m\u001b[0mcolumns\u001b[0m\u001b[0;34m)\u001b[0m\u001b[0;34m\u001b[0m\u001b[0m\n",
      "\u001b[0;32m~/anaconda3/lib/python3.6/site-packages/pandas/core/internals/construction.py\u001b[0m in \u001b[0;36m_homogenize\u001b[0;34m(data, index, dtype)\u001b[0m\n\u001b[1;32m    350\u001b[0m                 \u001b[0mval\u001b[0m \u001b[0;34m=\u001b[0m \u001b[0mlib\u001b[0m\u001b[0;34m.\u001b[0m\u001b[0mfast_multiget\u001b[0m\u001b[0;34m(\u001b[0m\u001b[0mval\u001b[0m\u001b[0;34m,\u001b[0m \u001b[0moindex\u001b[0m\u001b[0;34m.\u001b[0m\u001b[0m_values\u001b[0m\u001b[0;34m,\u001b[0m \u001b[0mdefault\u001b[0m\u001b[0;34m=\u001b[0m\u001b[0mnp\u001b[0m\u001b[0;34m.\u001b[0m\u001b[0mnan\u001b[0m\u001b[0;34m)\u001b[0m\u001b[0;34m\u001b[0m\u001b[0m\n\u001b[1;32m    351\u001b[0m             val = sanitize_array(\n\u001b[0;32m--> 352\u001b[0;31m                 \u001b[0mval\u001b[0m\u001b[0;34m,\u001b[0m \u001b[0mindex\u001b[0m\u001b[0;34m,\u001b[0m \u001b[0mdtype\u001b[0m\u001b[0;34m=\u001b[0m\u001b[0mdtype\u001b[0m\u001b[0;34m,\u001b[0m \u001b[0mcopy\u001b[0m\u001b[0;34m=\u001b[0m\u001b[0;32mFalse\u001b[0m\u001b[0;34m,\u001b[0m \u001b[0mraise_cast_failure\u001b[0m\u001b[0;34m=\u001b[0m\u001b[0;32mFalse\u001b[0m\u001b[0;34m\u001b[0m\u001b[0m\n\u001b[0m\u001b[1;32m    353\u001b[0m             )\n\u001b[1;32m    354\u001b[0m \u001b[0;34m\u001b[0m\u001b[0m\n",
      "\u001b[0;32m~/anaconda3/lib/python3.6/site-packages/pandas/core/construction.py\u001b[0m in \u001b[0;36msanitize_array\u001b[0;34m(data, index, dtype, copy, raise_cast_failure)\u001b[0m\n\u001b[1;32m    426\u001b[0m         \u001b[0;32melse\u001b[0m\u001b[0;34m:\u001b[0m\u001b[0;34m\u001b[0m\u001b[0m\n\u001b[1;32m    427\u001b[0m             \u001b[0;31m# we will try to copy be-definition here\u001b[0m\u001b[0;34m\u001b[0m\u001b[0;34m\u001b[0m\u001b[0m\n\u001b[0;32m--> 428\u001b[0;31m             \u001b[0msubarr\u001b[0m \u001b[0;34m=\u001b[0m \u001b[0m_try_cast\u001b[0m\u001b[0;34m(\u001b[0m\u001b[0mdata\u001b[0m\u001b[0;34m,\u001b[0m \u001b[0mdtype\u001b[0m\u001b[0;34m,\u001b[0m \u001b[0mcopy\u001b[0m\u001b[0;34m,\u001b[0m \u001b[0mraise_cast_failure\u001b[0m\u001b[0;34m)\u001b[0m\u001b[0;34m\u001b[0m\u001b[0m\n\u001b[0m\u001b[1;32m    429\u001b[0m \u001b[0;34m\u001b[0m\u001b[0m\n\u001b[1;32m    430\u001b[0m     \u001b[0;32melif\u001b[0m \u001b[0misinstance\u001b[0m\u001b[0;34m(\u001b[0m\u001b[0mdata\u001b[0m\u001b[0;34m,\u001b[0m \u001b[0mABCExtensionArray\u001b[0m\u001b[0;34m)\u001b[0m\u001b[0;34m:\u001b[0m\u001b[0;34m\u001b[0m\u001b[0m\n",
      "\u001b[0;32m~/anaconda3/lib/python3.6/site-packages/pandas/core/construction.py\u001b[0m in \u001b[0;36m_try_cast\u001b[0;34m(arr, dtype, copy, raise_cast_failure)\u001b[0m\n\u001b[1;32m    556\u001b[0m             \u001b[0msubarr\u001b[0m \u001b[0;34m=\u001b[0m \u001b[0marr\u001b[0m\u001b[0;34m\u001b[0m\u001b[0m\n\u001b[1;32m    557\u001b[0m         \u001b[0;32melse\u001b[0m\u001b[0;34m:\u001b[0m\u001b[0;34m\u001b[0m\u001b[0m\n\u001b[0;32m--> 558\u001b[0;31m             \u001b[0msubarr\u001b[0m \u001b[0;34m=\u001b[0m \u001b[0mmaybe_cast_to_datetime\u001b[0m\u001b[0;34m(\u001b[0m\u001b[0marr\u001b[0m\u001b[0;34m,\u001b[0m \u001b[0mdtype\u001b[0m\u001b[0;34m)\u001b[0m\u001b[0;34m\u001b[0m\u001b[0m\n\u001b[0m\u001b[1;32m    559\u001b[0m \u001b[0;34m\u001b[0m\u001b[0m\n\u001b[1;32m    560\u001b[0m         \u001b[0;31m# Take care in creating object arrays (but iterators are not\u001b[0m\u001b[0;34m\u001b[0m\u001b[0;34m\u001b[0m\u001b[0m\n",
      "\u001b[0;32m~/anaconda3/lib/python3.6/site-packages/pandas/core/dtypes/cast.py\u001b[0m in \u001b[0;36mmaybe_cast_to_datetime\u001b[0;34m(value, dtype, errors)\u001b[0m\n\u001b[1;32m   1441\u001b[0m             )\n\u001b[1;32m   1442\u001b[0m         ):\n\u001b[0;32m-> 1443\u001b[0;31m             \u001b[0mvalue\u001b[0m \u001b[0;34m=\u001b[0m \u001b[0mmaybe_infer_to_datetimelike\u001b[0m\u001b[0;34m(\u001b[0m\u001b[0mvalue\u001b[0m\u001b[0;34m)\u001b[0m\u001b[0;34m\u001b[0m\u001b[0m\n\u001b[0m\u001b[1;32m   1444\u001b[0m \u001b[0;34m\u001b[0m\u001b[0m\n\u001b[1;32m   1445\u001b[0m     \u001b[0;32mreturn\u001b[0m \u001b[0mvalue\u001b[0m\u001b[0;34m\u001b[0m\u001b[0m\n",
      "\u001b[0;32m~/anaconda3/lib/python3.6/site-packages/pandas/core/dtypes/cast.py\u001b[0m in \u001b[0;36mmaybe_infer_to_datetimelike\u001b[0;34m(value, convert_dates)\u001b[0m\n\u001b[1;32m   1227\u001b[0m     \u001b[0mv\u001b[0m \u001b[0;34m=\u001b[0m \u001b[0mvalue\u001b[0m\u001b[0;34m\u001b[0m\u001b[0m\n\u001b[1;32m   1228\u001b[0m \u001b[0;34m\u001b[0m\u001b[0m\n\u001b[0;32m-> 1229\u001b[0;31m     \u001b[0;32mif\u001b[0m \u001b[0;32mnot\u001b[0m \u001b[0mis_list_like\u001b[0m\u001b[0;34m(\u001b[0m\u001b[0mv\u001b[0m\u001b[0;34m)\u001b[0m\u001b[0;34m:\u001b[0m\u001b[0;34m\u001b[0m\u001b[0m\n\u001b[0m\u001b[1;32m   1230\u001b[0m         \u001b[0mv\u001b[0m \u001b[0;34m=\u001b[0m \u001b[0;34m[\u001b[0m\u001b[0mv\u001b[0m\u001b[0;34m]\u001b[0m\u001b[0;34m\u001b[0m\u001b[0m\n\u001b[1;32m   1231\u001b[0m     \u001b[0mv\u001b[0m \u001b[0;34m=\u001b[0m \u001b[0mnp\u001b[0m\u001b[0;34m.\u001b[0m\u001b[0marray\u001b[0m\u001b[0;34m(\u001b[0m\u001b[0mv\u001b[0m\u001b[0;34m,\u001b[0m \u001b[0mcopy\u001b[0m\u001b[0;34m=\u001b[0m\u001b[0;32mFalse\u001b[0m\u001b[0;34m)\u001b[0m\u001b[0;34m\u001b[0m\u001b[0m\n",
      "\u001b[0;32mpandas/_libs/lib.pyx\u001b[0m in \u001b[0;36mpandas._libs.lib.is_list_like\u001b[0;34m()\u001b[0m\n",
      "\u001b[0;32mpandas/_libs/lib.pyx\u001b[0m in \u001b[0;36mpandas._libs.lib.c_is_list_like\u001b[0;34m()\u001b[0m\n",
      "\u001b[0;32m~/anaconda3/lib/python3.6/abc.py\u001b[0m in \u001b[0;36m__instancecheck__\u001b[0;34m(cls, instance)\u001b[0m\n\u001b[1;32m    180\u001b[0m         \u001b[0;31m# Inline the cache checking\u001b[0m\u001b[0;34m\u001b[0m\u001b[0;34m\u001b[0m\u001b[0m\n\u001b[1;32m    181\u001b[0m         \u001b[0msubclass\u001b[0m \u001b[0;34m=\u001b[0m \u001b[0minstance\u001b[0m\u001b[0;34m.\u001b[0m\u001b[0m__class__\u001b[0m\u001b[0;34m\u001b[0m\u001b[0m\n\u001b[0;32m--> 182\u001b[0;31m         \u001b[0;32mif\u001b[0m \u001b[0msubclass\u001b[0m \u001b[0;32min\u001b[0m \u001b[0mcls\u001b[0m\u001b[0;34m.\u001b[0m\u001b[0m_abc_cache\u001b[0m\u001b[0;34m:\u001b[0m\u001b[0;34m\u001b[0m\u001b[0m\n\u001b[0m\u001b[1;32m    183\u001b[0m             \u001b[0;32mreturn\u001b[0m \u001b[0;32mTrue\u001b[0m\u001b[0;34m\u001b[0m\u001b[0m\n\u001b[1;32m    184\u001b[0m         \u001b[0msubtype\u001b[0m \u001b[0;34m=\u001b[0m \u001b[0mtype\u001b[0m\u001b[0;34m(\u001b[0m\u001b[0minstance\u001b[0m\u001b[0;34m)\u001b[0m\u001b[0;34m\u001b[0m\u001b[0m\n",
      "\u001b[0;32m~/anaconda3/lib/python3.6/_weakrefset.py\u001b[0m in \u001b[0;36m__contains__\u001b[0;34m(self, item)\u001b[0m\n\u001b[1;32m     68\u001b[0m         \u001b[0;32mreturn\u001b[0m \u001b[0mlen\u001b[0m\u001b[0;34m(\u001b[0m\u001b[0mself\u001b[0m\u001b[0;34m.\u001b[0m\u001b[0mdata\u001b[0m\u001b[0;34m)\u001b[0m \u001b[0;34m-\u001b[0m \u001b[0mlen\u001b[0m\u001b[0;34m(\u001b[0m\u001b[0mself\u001b[0m\u001b[0;34m.\u001b[0m\u001b[0m_pending_removals\u001b[0m\u001b[0;34m)\u001b[0m\u001b[0;34m\u001b[0m\u001b[0m\n\u001b[1;32m     69\u001b[0m \u001b[0;34m\u001b[0m\u001b[0m\n\u001b[0;32m---> 70\u001b[0;31m     \u001b[0;32mdef\u001b[0m \u001b[0m__contains__\u001b[0m\u001b[0;34m(\u001b[0m\u001b[0mself\u001b[0m\u001b[0;34m,\u001b[0m \u001b[0mitem\u001b[0m\u001b[0;34m)\u001b[0m\u001b[0;34m:\u001b[0m\u001b[0;34m\u001b[0m\u001b[0m\n\u001b[0m\u001b[1;32m     71\u001b[0m         \u001b[0;32mtry\u001b[0m\u001b[0;34m:\u001b[0m\u001b[0;34m\u001b[0m\u001b[0m\n\u001b[1;32m     72\u001b[0m             \u001b[0mwr\u001b[0m \u001b[0;34m=\u001b[0m \u001b[0mref\u001b[0m\u001b[0;34m(\u001b[0m\u001b[0mitem\u001b[0m\u001b[0;34m)\u001b[0m\u001b[0;34m\u001b[0m\u001b[0m\n",
      "\u001b[0;32m~/.vscode/extensions/ms-python.python-2021.4.765268190/pythonFiles/lib/python/debugpy/_vendored/pydevd/_pydevd_bundle/pydevd_trace_dispatch_regular.py\u001b[0m in \u001b[0;36m__call__\u001b[0;34m(self, frame, event, arg)\u001b[0m\n\u001b[1;32m    383\u001b[0m                         \u001b[0;32mif\u001b[0m \u001b[0mback_frame\u001b[0m \u001b[0;32mis\u001b[0m \u001b[0;32mnot\u001b[0m \u001b[0;32mNone\u001b[0m \u001b[0;32mand\u001b[0m \u001b[0mpydev_step_cmd\u001b[0m \u001b[0;32min\u001b[0m \u001b[0;34m(\u001b[0m\u001b[0mCMD_STEP_INTO\u001b[0m\u001b[0;34m,\u001b[0m \u001b[0mCMD_STEP_INTO_MY_CODE\u001b[0m\u001b[0;34m,\u001b[0m \u001b[0mCMD_STEP_RETURN\u001b[0m\u001b[0;34m,\u001b[0m \u001b[0mCMD_STEP_RETURN_MY_CODE\u001b[0m\u001b[0;34m)\u001b[0m\u001b[0;34m:\u001b[0m\u001b[0;34m\u001b[0m\u001b[0m\n\u001b[1;32m    384\u001b[0m                             \u001b[0mback_frame_cache_key\u001b[0m \u001b[0;34m=\u001b[0m \u001b[0;34m(\u001b[0m\u001b[0mback_frame\u001b[0m\u001b[0;34m.\u001b[0m\u001b[0mf_code\u001b[0m\u001b[0;34m.\u001b[0m\u001b[0mco_firstlineno\u001b[0m\u001b[0;34m,\u001b[0m \u001b[0mback_frame\u001b[0m\u001b[0;34m.\u001b[0m\u001b[0mf_code\u001b[0m\u001b[0;34m.\u001b[0m\u001b[0mco_name\u001b[0m\u001b[0;34m,\u001b[0m \u001b[0mback_frame\u001b[0m\u001b[0;34m.\u001b[0m\u001b[0mf_code\u001b[0m\u001b[0;34m.\u001b[0m\u001b[0mco_filename\u001b[0m\u001b[0;34m)\u001b[0m\u001b[0;34m\u001b[0m\u001b[0m\n\u001b[0;32m--> 385\u001b[0;31m                             \u001b[0;32mif\u001b[0m \u001b[0mcache_skips\u001b[0m\u001b[0;34m.\u001b[0m\u001b[0mget\u001b[0m\u001b[0;34m(\u001b[0m\u001b[0mback_frame_cache_key\u001b[0m\u001b[0;34m)\u001b[0m \u001b[0;34m==\u001b[0m \u001b[0;36m1\u001b[0m\u001b[0;34m:\u001b[0m\u001b[0;34m\u001b[0m\u001b[0m\n\u001b[0m\u001b[1;32m    386\u001b[0m                                 \u001b[0;31m# if DEBUG: print('skipped: trace_dispatch (cache hit: 1)', frame_cache_key, frame.f_lineno, event, frame.f_code.co_name)\u001b[0m\u001b[0;34m\u001b[0m\u001b[0;34m\u001b[0m\u001b[0m\n\u001b[1;32m    387\u001b[0m                                 \u001b[0;32mreturn\u001b[0m \u001b[0;32mNone\u001b[0m \u001b[0;32mif\u001b[0m \u001b[0mevent\u001b[0m \u001b[0;34m==\u001b[0m \u001b[0;34m'call'\u001b[0m \u001b[0;32melse\u001b[0m \u001b[0mNO_FTRACE\u001b[0m\u001b[0;34m\u001b[0m\u001b[0m\n",
      "\u001b[0;31mKeyboardInterrupt\u001b[0m: "
     ]
    }
   ],
   "source": [
    "\n",
    "dh = s.get_tracks_for_search_term('deep house', 100)\n",
    "sg = s.get_tracks_for_search_term('shoegaze', 100)\n",
    "yr = s.get_tracks_for_search_term('yacht rock',100)\n",
    "\n",
    "print('Deep House shape:', dh.shape)\n",
    "print('Shoegaze shape:', sg.shape)\n",
    "print('Yacht Rock shape:', yr.shape)"
   ]
  },
  {
   "source": [
    "Let's save all of these to a csv's so that we can access them more easily in the future"
   ],
   "cell_type": "markdown",
   "metadata": {}
  },
  {
   "cell_type": "code",
   "execution_count": 3,
   "metadata": {},
   "outputs": [
    {
     "output_type": "error",
     "ename": "NameError",
     "evalue": "name 'dh' is not defined",
     "traceback": [
      "\u001b[0;31m---------------------------------------------------------------------------\u001b[0m",
      "\u001b[0;31mNameError\u001b[0m                                 Traceback (most recent call last)",
      "\u001b[0;32m<ipython-input-3-efeb3b92bd9d>\u001b[0m in \u001b[0;36m<module>\u001b[0;34m()\u001b[0m\n\u001b[0;32m----> 1\u001b[0;31m \u001b[0mdh\u001b[0m\u001b[0;34m.\u001b[0m\u001b[0mto_csv\u001b[0m\u001b[0;34m(\u001b[0m\u001b[0;34m'deep_house.csv'\u001b[0m\u001b[0;34m,\u001b[0m\u001b[0mindex\u001b[0m\u001b[0;34m=\u001b[0m\u001b[0;32mFalse\u001b[0m\u001b[0;34m)\u001b[0m\u001b[0;34m\u001b[0m\u001b[0m\n\u001b[0m\u001b[1;32m      2\u001b[0m \u001b[0msg\u001b[0m\u001b[0;34m.\u001b[0m\u001b[0mto_csv\u001b[0m\u001b[0;34m(\u001b[0m\u001b[0;34m'shoegaze.csv'\u001b[0m\u001b[0;34m,\u001b[0m\u001b[0mindex\u001b[0m\u001b[0;34m=\u001b[0m\u001b[0;32mFalse\u001b[0m\u001b[0;34m)\u001b[0m\u001b[0;34m\u001b[0m\u001b[0m\n\u001b[1;32m      3\u001b[0m \u001b[0myr\u001b[0m\u001b[0;34m.\u001b[0m\u001b[0mto_csv\u001b[0m\u001b[0;34m(\u001b[0m\u001b[0;34m'yacht_rock.csv'\u001b[0m\u001b[0;34m,\u001b[0m\u001b[0mindex\u001b[0m\u001b[0;34m=\u001b[0m\u001b[0;32mFalse\u001b[0m\u001b[0;34m)\u001b[0m\u001b[0;34m\u001b[0m\u001b[0m\n",
      "\u001b[0;31mNameError\u001b[0m: name 'dh' is not defined"
     ]
    }
   ],
   "source": [
    "dh.to_csv('deep_house.csv',index=False)\n",
    "sg.to_csv('shoegaze.csv',index=False)\n",
    "yr.to_csv('yacht_rock.csv',index=False)"
   ]
  },
  {
   "cell_type": "code",
   "execution_count": 4,
   "metadata": {},
   "outputs": [],
   "source": [
    "# import from csv if we want to do that\n",
    "dh = pd.read_csv('deep_house.csv')\n",
    "sg = pd.read_csv('shoegaze.csv')\n",
    "yr = pd.read_csv('yacht_rock.csv')"
   ]
  },
  {
   "source": [
    "Let's get the association rules for each genre. Here, what we are doing is looking at all the playlists and seeing how likely certain tracks are to appear in the same playlist together. We can find out thinks like \"given track A is in this playlist, how likely is it that track B is in this playlist.\" We can also see the frequency of each individual track as well and find the most popular tracks for this genre this way. Let's do that for each of the genres now.\n",
    "\n",
    "the min_sup parameter in the get_track_associations method is used to set the minimum support, or frequency, of a track in order to be considered significant enough to be a part of the association rules mining. If you make it too low there will be too many relationships to analyze and the package won't be able to handle it, but if you set it too high there won't be enough tracks to get any meaningful relationships. I would recommend starting with a value of 0.1 and adjusting until you have an output size you deem appropriate."
   ],
   "cell_type": "markdown",
   "metadata": {}
  },
  {
   "cell_type": "code",
   "execution_count": 5,
   "metadata": {},
   "outputs": [
    {
     "output_type": "stream",
     "name": "stdout",
     "text": [
      "getting frequent itemsets\nmining rules\n"
     ]
    }
   ],
   "source": [
    "dh_rules, dh_tracks = s.get_track_associations(dh, min_sup=0.04)"
   ]
  },
  {
   "cell_type": "code",
   "execution_count": 7,
   "metadata": {
    "tags": []
   },
   "outputs": [
    {
     "output_type": "stream",
     "name": "stdout",
     "text": [
      "Paradise (feat. Dermot Kennedy) - MEDUZA | Dermot Kennedy\nThe Business - Tiësto\nLose Control - MEDUZA | Becky Hill | Goodboys\nYour Love (9PM) - ATB | Topic | A7S\nRide It - Regard\nRegardless - RAYE | Rudimental\nLooking for Me - Paul Woolford | Diplo | Kareen Lomax\nSecrets - Regard | RAYE\nGoodbye - Imanbek | Goodboys\ni miss u (with Au/Ra) - Jax Jones | Au/Ra\nDon't Say Goodbye (feat. Tove Lo) - Alok | Ilkay Sencan | Tove Lo\nGoosebumps - HVME\nBreaking Me - Topic | A7S\nRoses - Imanbek Remix - SAINt JHN | Imanbek\nHead & Heart (feat. MNEK) - Joel Corry | MNEK\nSlow Down (feat. Jorja Smith) - Vintage Culture & Slow Motion Remix - Maverick Sabre | Jorja Smith | Vintage Culture | Slow Motion\nSay My Name - Dimitri Vegas & Like Mike | Regard | Dimitri Vegas\nGuilty of Your Love - Kyle Meehan | Jessica Hammond\nTurn Back Time - Diplo | Sonny Fodera\nLovefool - twocolors\nMoment - Robin M | Dantae The Kid\nFriday (feat. Mufasa & Hypeman) - Dopamine Re-Edit - Riton | Nightcrawlers | Mufasa & Hypeman | Dopamine\nI Need A Miracle - ReMan | Taylor Mosely\nI Don't Wanna Know - SOMMA | Brenda Mullen\nBED - Joel Corry | RAYE | David Guetta\nBody - Elderbrook\nSome Say - Felix Jaehn Remix - Nea | Felix Jaehn\nPiece Of Your Heart - Alok Remix - MEDUZA | Alok | Goodboys\nLucid Dreams - Harrison\nBorn To Love (feat. SHELLS) - MEDUZA | SHELLS\nSomebody Else - Robby East | Jantine\nPressure (feat. Tove Lo) - Martin Garrix | Tove Lo\nI Can't Sleep - SOMMA | Nina Chuba\nGoing Out - AMARI\nAnxious (Felix Jaehn Remix) - Dennis Lloyd | Felix Jaehn\nWhite Flag - Lucas Estrada | Charming Horses | Sarah de Warren\nNo One Else - Rolipso\nIlomilo - Michel Dj | Bene Dee\nDeep End - SIDEPIECE Remix - John Summit | SIDEPIECE\nInsomnia - Michel Dj | Bene Dee\nWasted Love (feat. Lagique) - Ofenbach | Lagique\nyou broke me first - Luca Schreiner Remix - Tate McRae | Luca Schreiner\nDrowning - Divolly & Markward | Panuma | Darla Jade\nMagical place (feat. IOVA) - Dj Dark & MD Dj Remix - Dj Sava | Dj Dark | MD DJ | IOVA\nKayleigh - Ian Storm | Ron van den Beuken | Menno\nHear Me Tonight - Alok | THRDL!FE\nWicked Game - SilkandStones\nTreat Me Right - Nikko Culture Remix - Pete Bellis & Tommy | Nikko Culture\nNo Therapy - Felix Jaehn | Nea | Bryn Christopher\nWater (feat. ZOHARA) - KREAM | ZOHARA\nWhat's Love Got to Do with It - Kygo | Tina Turner\nOn & On - Alok | Dynoro\nHeartbeat - Wankelmut | Bhaskar | Diskover | Willemijn May\nGoosebumps - Remix - Travis Scott | HVME\nBlinding Lights - Revelries | Victoria Voss\nSay My Name - Matvey Emerson | NEVRMIND\nBest of You - Harrison\nNew Love (feat. Ellie Goulding) - Silk City | Ellie Goulding | Diplo | Mark Ronson\nOutta Control - Thierry Von Der Warth | Denis Kalytovskyi\nPiece Of Your Heart - MEDUZA | Goodboys\nily (i love you baby) (feat. Emilee) - Surf Mesa | Emilee\nI'm Just Feelin' (Du Du Du) - Imanbek | Martin Jensen\nBugatti Ridin' - Rolipso\nLovers Say Goodbye - James Carter | Lucas Estrada\nDancer in the Dark - Marc Philippe\nRapture - Alok | Daniel Blume\nFever - SOMMA | FAST BOY\nLiar - Ian Storm | Nick Martin | GABRIEL IXEA\nSweet Dreams - Marcus Layton\nParty On My Own (feat. FAULHABER) - Alok | Vintage Culture | FAULHABER\nFirestone - Michel Dj | Simonebob\nFoolproof - Hayden James | Gorgon City | Nat Dunn\nWicked Games - Parra for Cuva | Anna Naklab\nKeep You Close - LANNÉ | Paradigm\nToo Much (feat. Usher) - Marshmello | Imanbek | Usher\nRunaway - James Carter | Joseph Feinstein\nLemon Tree - Alle Farben | Fools Garden\nAll Around The World (La La La) - R3HAB | A Touch Of Class\nCooler Than Me - Lucky Luke\nMine (feat. Dawty Music, Preston Harris & Sophia Sugarman) - HUGEL | Dawty Music | Sophia Sugarman | Preston Harris\nSAD - Imanbek xxx Remix - Rasster | Erin Bloomer | Imanbek\nSupergirl - Max Oazo | Camishe\nOne More Dance (with Alida) - R3HAB | Alida\nAlone Together - Astrality | Georgia Blackwell\nWhen you talk to me - Michel Dj\nMissing - Ian Storm | SilkandStones | Menno\nDon’t Need Love (with GRACEY) - 220 KID | GRACEY\nTry - Crystal Rock | Florence Nevada | Stephanie Schulte\nCan't Let Go - DJ Zaro\nAround The World - Vowed\nI Don't Wanna Know - Punctual\nWaiting for You - BRT | MidX | Goodkins\nFaded - Luxe Agoris | imallryt | Britt Lari\nIn the End - Radio Edit - DJ Dark\nDisperse - Olaars & Will Philips\nSomebody New (with Séb Mont) - Leonail | Abel Romez | Blaikz\nOn My Mind - Diplo | SIDEPIECE\nIn My Mind - Pascal Junior | Bastien\nMarea (We’ve Lost Dancing) - Fred again.. | The Blessed Madonna\nHigher Love - Kygo | Whitney Houston\nMaybe - Fidel Deniz | Taylor Mosley\nSing My Song - Mathic | Keanler\nRise - Lost Frequencies\nLosing Touch - Anthony Keyrouz | Unklfnkl\nCry Alone - ReMan\nAre You With Me - Lost Frequencies\nHouse Arrest - Sofi Tukker | Gorgon City\nNo Lie - Michael Calfan | Martin Solveig\nLie for You (feat. A Boogie Wit Da Hoodie & Davido) - Gorgon City Remix - Snakehips | Jess Glynne | A Boogie Wit da Hoodie | DaVido | Gorgon City\nWild - MEDUZA Remix - John Legend | MEDUZA\nLoved by U - Melih Aydogan | Ria\nI Think She Knows (feat. My Marianne) - Interlude - Twelve | My Marianne\nKing - Pablo Bravas | Nina Chuba\nStranger - Suprafive | Nesco\nMe Provocas - Dynoro | Fumaratto\nWicked Game [nowifi Remix] - Steve Reece | MOONLGHT | Youkii | nowifi\nCaught in a Dream - PALASTIC | LissA\nStumblin' In - Ahmet Kilic | Stoto | Adeba\nLosing Focus - Marc Benjamin | Marcus Santoro | David Pietras\nBloodstream - twocolors\nTake Care Of You - REZarin | Joey Busse | Cubfonic\nNobody - NOTD | Catello\nImagine Me - Michel Dj\nWatcha Gonna Do - DLMT\nHear You - ESound | Demi Caswell\nDeep Sunset - Michael FAY\nCalifornia Love - DJ Dark | Mentol | D.E.P\nAlien - Topic Remix - Dennis Lloyd | Topic\nAlmost Love - James Carter | Dominic Neill\nWithout Me - DJ Dark | Nesco\nHappiness - Tomcraft | Moguai | ILIRA\nLet Me Love You - EQRIC | Narvent | Timmy Commerford\nTogether - SIDEPIECE\nBy Your Side - Imad | offrami\nControl - Michel Dj | Bene Dee\nYou Tell Me - Melih Aydogan\n"
     ]
    }
   ],
   "source": [
    "def print_tracks(df):\n",
    "    for i in range(df.shape[0]):\n",
    "        track_name = df.loc[i]['track_name']\n",
    "        artist_names = df.loc[i]['artist_names']\n",
    "        print(f\"{track_name} - {artist_names}\")\n",
    "\n",
    "print_tracks(dh_tracks)"
   ]
  },
  {
   "source": [
    "Reading through the Deep House tracks there aren't any that jump out as being completely out of place. Some that I would consider more Tech House than deep house but definitely still close. Overall I get the sense that this is mostly \"anything with an FM Bass\" kind of deep house given the large numbre of covers/remixes by Alok/R3HAB and lots of MEDUZA/Regard/RAYE/MNEK/Imanbek. These are definitely the most popular types of \"Deep House\" songs especially the type to be found in a random playlist. I wonder if we would get more traidional deep house if we were to use less popular tracks or add more words to our search term."
   ],
   "cell_type": "markdown",
   "metadata": {}
  },
  {
   "cell_type": "code",
   "execution_count": 11,
   "metadata": {},
   "outputs": [
    {
     "output_type": "stream",
     "name": "stdout",
     "text": [
      "getting frequent itemsets\nmining rules\n"
     ]
    },
    {
     "output_type": "execute_result",
     "data": {
      "text/plain": [
       "(109, 4)"
      ]
     },
     "metadata": {},
     "execution_count": 11
    }
   ],
   "source": [
    "sg_rules, sg_tracks = s.get_track_associations(sg, min_sup=0.04)\n",
    "print(sg_tracks.shape)"
   ]
  },
  {
   "cell_type": "code",
   "execution_count": 13,
   "metadata": {},
   "outputs": [
    {
     "output_type": "stream",
     "name": "stdout",
     "text": [
      "Cherry-coloured Funk - Cocteau Twins\nWhen You Sleep - my bloody valentine\nWhen the Sun Hits - Slowdive\nKick The Tragedy - Drop Nineteens\nJust Like Honey - The Jesus and Mary Chain\nStarting Over - LSD and the Search for God\nHeaven Or Las Vegas - Cocteau Twins\nSugar for the Pill - Slowdive\nAlison - Slowdive\nOnly Shallow - my bloody valentine\nIn Your Room - Airiel\nFade Into You - Mazzy Star\nWhen The Sun Hits - Slowdive\nVapour Trail - 2001 Remaster - Ride\nWinona - Drop Nineteens\nSometimes - my bloody valentine\nKinky Love - Pale Saints\nBreather - Chapterhouse\nStrawberry Cream - Oeil\nSlomo - Slowdive\nSoon - my bloody valentine\nFlood in Heaven - The Daysleepers\nDrop You Vivid Colours - Luminousorange\nCatch The Breeze - Slowdive\nSpace Song - Beach House\nLeave Them All Behind - 2001 Remaster - Ride\nBlack Metallic - Catherine Wheel\nCrasher - Astrobrite\nLorelei - Cocteau Twins\nSweetness and Light - Lush\nTo Here Knows When - my bloody valentine\nEvergreen - The Brian Jonestown Massacre\nInto The Ether - Secret Shine\nNo Longer Making Time - Slowdive\nUnder the Sun - DIIV\nSleep Apnea - Beach Fossils\nLove Songs on the Radio - Mojave 3\nElizabeth Colour Wheel - Lilys\nPandora (For Cindy) - Cocteau Twins\nStare at the Sun - Ringo Deathstarr\nSouvlaki Space Station - Slowdive\nLeave - Whirr\nPancake - Swirlies\nMind the Wires - Tears Run Rings\nStar Roving - Slowdive\nSight of You - Pale Saints\nnight is young - yuragi\nGo and Come Back - Fleeting Joys\nFear of Flying - Bowery Electric\nI Follow You - Melody's Echo Chamber\nIceblink Luck - Cocteau Twins\nAngel - Drop Nineteens\nApril Skies - The Jesus and Mary Chain\nBe Quiet and Drive (Far Away) - Deftones\nBlown a Wish - my bloody valentine\nDEAR FUTURE '18 - Coaltar Of The Deepers\nERROR - Plastic Girl In Closet\nThursday - Asobi Seksu\nDelaware - Drop Nineteens\nTaker - DIIV\nDreams Burn Down - 2001 Remaster - Ride\nNow I Know You Could Never Be The One - The Meeting Places\nNowhere Near - Yo La Tengo\nNothing Natural - Lush\nMumble - Whirr\nFor Love - Lush\nPearl - Chapterhouse\nOff Your Face - my bloody valentine\nDark Spring - Beach House\nEveryone Knows - Slowdive\nダブル・プラトニツク・スウイサイド - 溶けない名前\nI Only Said - my bloody valentine\nLazuli - Beach House\nCupid Come - my bloody valentine\nEmpty Words - Bowery Electric\nOntario Gothic - Foxes In Fiction\nWhat You Want - my bloody valentine\nShow Me How - Men I Trust\nThis Time - LSD and the Search for God\n40 Days - Slowdive\n40 Days - Slowdive\nInside Out - Duster\nI Don't Know You - The Marías\ni was all over her - salvia palth\nDry - Whirr\nSouvlaki Space Station - Slowdive\nWe're Not Done (End Title) - Mogwai\nLoomer - my bloody valentine\nSeagull - 2001 Remaster - Ride\nDagger - Slowdive\nSea, Swallow Me - Cocteau Twins | Harold Budd\nWhite - Oeil\nSway - Whirr\nJeremy Parker - Swirlies\nDive - Beach House\nKaleidoscope - Ringo Deathstarr\nSwallow (EP Version) - my bloody valentine\nFlower of life - THE NOVEMBERS\nASAHINAGU - MASS OF THE FERMENTING DREGS\nChocolate Matter - Sweet Trip\nBreathe the Fire - The Soft Moon\nLove Fade - Tamaryn\nAlways Forever - Cults\nDon't Know Why - Slowdive\nVirgin Suicide - 宇宙ネコ子\nUraraka - Shojo Skip\nUtopia - yuragi\nA Flower Of The Ground - Seventeen Years Old And Berlin Wall\nGallowdance - Lebanon Hanover\n"
     ]
    }
   ],
   "source": [
    "print_tracks(sg_tracks)"
   ]
  },
  {
   "source": [
    "These results look pretty great for the most part. Lots of Cocteau Twins, my bloody valentine, Slowdive, and Ride are probably the biggest 4 bands of the genre so that is good that they all appear alot. Other less prominent artists like Lush, Mazzy Star, Jesus and Mary Chain, Beach House also showing up a lot. Seeing lots of Japanese music at the end which was very surprising to me, going to have to look into some of these songs!\n",
    "\n",
    "ダブル・プラトニツク・スウイサイド - 溶けない名前 <- this one is pretty cool! definitely shoe-gazey as well, but a little more upbeat and energetic than is normal, but definitely dreamy and distorted.\n",
    "\n",
    "Virgin Suicide - 宇宙ネコ子 <- this one is good too but not as interesting as the first. Still is definitely shoe-gazey!\n",
    "\n"
   ],
   "cell_type": "markdown",
   "metadata": {}
  },
  {
   "cell_type": "code",
   "execution_count": 26,
   "metadata": {},
   "outputs": [
    {
     "output_type": "stream",
     "name": "stdout",
     "text": [
      "getting frequent itemsets\n",
      "mining rules\n",
      "(154, 4)\n"
     ]
    }
   ],
   "source": [
    "yr_rules, yr_tracks = s.get_track_associations(yr, min_sup=0.08)\n",
    "print(yr_tracks.shape)"
   ]
  },
  {
   "cell_type": "code",
   "execution_count": 27,
   "metadata": {},
   "outputs": [
    {
     "output_type": "stream",
     "name": "stdout",
     "text": [
      "I Keep Forgettin' (Every Time You're Near) - Michael McDonald\nSailing - Christopher Cross\nRide Like the Wind - Christopher Cross\nBaker Street - Gerry Rafferty\nThis Is It - Kenny Loggins\nRosanna - TOTO\nEscape (The Pina Colada Song) - Rupert Holmes\nWhat a Fool Believes - The Doobie Brothers\nBrandy (You're a Fine Girl) - Looking Glass\nAfrica - TOTO\nLove Will Find A Way - Pablo Cruise\nBiggest Part of Me - Ambrosia\nHow Much I Feel - Ambrosia\nRight Down the Line - Gerry Rafferty\nLido Shuffle - Boz Scaggs\nDance with Me - Orleans\nSara Smile - Daryl Hall & John Oates\nLowdown - Boz Scaggs\nSomebody's Baby - Jackson Browne\nReminiscing - Remastered - Little River Band\nPeg - Steely Dan\nSummer Breeze - Seals and Crofts\nHey Nineteen - Steely Dan\nShe's Gone - Daryl Hall & John Oates\nVentura Highway - America | George Martin\nMinute by Minute - The Doobie Brothers\nDo It Again - Steely Dan\nNever Be the Same - Christopher Cross\nArthur's Theme (Best That You Can Do) - Christopher Cross\nBreezin' - George Benson\nDreams - 2004 Remaster - Fleetwood Mac\nYou're the Only Woman - You & I - Ambrosia\nInto The Night - Benny Mardones\nYou Can Do Magic - America\nSister Golden Hair - America\nSteal Away - Robbie Dupree\nHold the Line - TOTO\nYear of the Cat - Al Stewart\nLotta Love - Nicolette Larson\nYou Are the Woman - Firefall\nI'd Really Love to See You Tonight - England Dan & John Ford Coley\nTakin' It to the Streets - The Doobie Brothers | James Taylor\nHow Long - Ace\nKiss on My List - Daryl Hall & John Oates\nOne of These Nights - 2013 Remaster - Eagles\nThunder Island - Jay Ferguson\nSo Into You - Atlanta Rhythm Section\nGeorgy Porgy - TOTO\nRich Girl - Daryl Hall & John Oates\nLowdown - Boz Scaggs\nIf You Leave Me Now - Chicago\nI Can't Go for That (No Can Do) - Daryl Hall & John Oates\nMoonlight Feels Right - Starbuck\nHeart to Heart - Kenny Loggins\nA Horse with No Name - America | George Martin\nDream Weaver - Gary Wright\nStill the One - Orleans\nBaby Come Back - Player\nMake It with You - Bread\nListen to the Music - The Doobie Brothers\nOn And On - Stephen Bishop\nDeacon Blues - Steely Dan\nAll Right - Christopher Cross\nEye In The Sky - The Alan Parsons Project\nWhenever I Call You \"Friend\" (feat. Stevie Nicks) - Kenny Loggins | Stevie Nicks\nSundown - Gordon Lightfoot\nI'm Not In Love - 10cc\nMagnet and Steel - Walter Egan\nI Can't Tell You Why - 2013 Remaster - Eagles\nBaby Come Back - Player\nJackie Blue - The Ozark Mountain Daredevils\nSentimental Lady - Bob Welch\nKey Largo - Bertie Higgins\nI Just Wanna Stop - Gino Vannelli\nDiamond Girl - Seals and Crofts\nHello It's Me - Todd Rundgren\nRhiannon - Fleetwood Mac\nCool Night - Paul Davis\nThe Things We Do For Love - 10cc\nI Gotta Try - Michael McDonald\nWhatcha Gonna Do? - Pablo Cruise\nI.G.Y. - Donald Fagen\nTime Passages - Al Stewart\nSmoke from a Distant Fire - Sanford Townsend Band\nSummer Breeze - Seals and Crofts\nTurn Your Love Around - George Benson\nRikki Don't Lose That Number - Steely Dan\nI'd Really Love to See You Tonight - England Dan & John Ford Coley\nGive Me the Night - George Benson\nEasy - Commodores\nWaiting for a Girl like You - Foreigner\nBlack Cow - Steely Dan\nYah Mo B There - James Ingram | Michael McDonald\nYou Make My Dreams (Come True) - Daryl Hall & John Oates\nSaturday in the Park - 2002 Remaster - Chicago\nNights Are Forever Without You - England Dan & John Ford Coley\nFM - Steely Dan\nReelin' In The Years - Steely Dan\nAll Night Long (All Night) - Single Version - Lionel Richie\nFooled Around And Fell In Love - Elvin Bishop\nWhen You're In Love With A Beautiful Woman - Dr. Hook\nWildfire - Michael Martin Murphey\nI Go Crazy - Paul Davis\nJoJo - Boz Scaggs\nHearts - Marty Balin\nIt Keeps You Runnin' - The Doobie Brothers\nRide Captain Ride - Blues Image\nCouldn't Get It Right - Climax Blues Band\nWho'll Be the Fool Tonight - Larsen/Feiten Band\nBaby I'm-a Want You - Bread\nI'm Not In Love - 10cc\nJust Remember I Love You - Firefall\nWhat a Fool Believes - The Doobie Brothers\nEasy Lover - Philip Bailey | Phil Collins\nSummer Breeze - Seals and Crofts\nLove Will Keep Us Together - Captain & Tennille\nNothin' You Can Do About It - Airplay\nYou Need A Hero - Pages\nHey Nineteen - Steely Dan\nDoctor My Eyes - Jackson Browne\nLook Who's Lonely Now - Bill LaBounty\nCool Change - Remastered - Little River Band\nLady - 2010 Digital Remaster - Little River Band\nI Saw the Light - Todd Rundgren\nI Saw the Light - 2015 Remaster - Todd Rundgren\nDirty Work - Steely Dan\nIt's Too Late - Carole King\nLove Is Alive - Gary Wright\nGypsy - Fleetwood Mac\nDancing in the Moonlight - King Harvest\nReminiscing - 2002 Digital Remaster - Little River Band\nCrazy Love - Poco\nSteal Away - Robbie Dupree\nKeep on Loving You - REO Speedwagon\nMake Believe - TOTO\nSouthern Cross - 2005 Remaster - Crosby, Stills & Nash\nJust the Two of Us (feat. Bill Withers) - Grover Washington, Jr. | Bill Withers\nSteal Away - Remastered - Robbie Dupree\nGet Closer - Seals and Crofts\nSail On - Commodores\nGet Used to It - Roger Voudouris\nSharing The Night Together - Dr. Hook\nSailing - Christopher Cross\nBabylon Sisters - Steely Dan\nLivin' It Up - Bill LaBounty\nBelieve It or Not (Theme from \"Greatest American Hero\") - Joey Scarbury\nSexy Eyes - Single Version - Dr. Hook\nWho's Right, Who's Wrong - Kenny Loggins\nGeorgia - Boz Scaggs\nMornin' - Al Jarreau\nMarina Del Rey - Marc Jordan\nI Love You - Climax Blues Band\nNobody's Business - Maxus\nI Really Don't Know Anymore - Christopher Cross\n"
     ]
    }
   ],
   "source": [
    "print_tracks(yr_tracks)"
   ]
  },
  {
   "source": [
    "These also look like pretty great results! Lots of Toto, Kenny Loggins, Hall and Oates, Doobie Brothers, America, the Eagles, and of course Steely Dan. It looks like this is a pretty good balance between the die-hard Yacht Rock achetypes and the more radio friendly side of it as well!"
   ],
   "cell_type": "markdown",
   "metadata": {}
  }
 ]
}